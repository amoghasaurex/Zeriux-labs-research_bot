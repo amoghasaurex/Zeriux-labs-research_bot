{
 "cells": [
  {
   "cell_type": "markdown",
   "metadata": {},
   "source": [
    "Importing the required libraries"
   ]
  },
  {
   "cell_type": "code",
   "execution_count": 1,
   "metadata": {},
   "outputs": [],
   "source": [
    "import numpy as np\n",
    "import nltk\n",
    "import string \n",
    "import random"
   ]
  },
  {
   "cell_type": "markdown",
   "metadata": {},
   "source": [
    "Importing and reading the corpus"
   ]
  },
  {
   "cell_type": "code",
   "execution_count": 2,
   "metadata": {},
   "outputs": [
    {
     "name": "stderr",
     "output_type": "stream",
     "text": [
      "[nltk_data] Downloading package punkt to C:\\Users\\Amogh\n",
      "[nltk_data]     Varote\\AppData\\Roaming\\nltk_data...\n",
      "[nltk_data]   Package punkt is already up-to-date!\n",
      "[nltk_data] Downloading package wordnet to C:\\Users\\Amogh\n",
      "[nltk_data]     Varote\\AppData\\Roaming\\nltk_data...\n",
      "[nltk_data]   Package wordnet is already up-to-date!\n"
     ]
    }
   ],
   "source": [
    "f = open('nut.txt', 'r', errors = 'ignore')\n",
    "raw_doc = f.read()\n",
    "raw_doc = raw_doc.lower() #Converting text to lowercase [2 , 3]\n",
    "nltk.download('punkt') #Using the Punkt tokenizer [4]\n",
    "nltk.download('wordnet') #Using the WordNet dictionary \n",
    "sent_tokens = nltk.sent_tokenize(raw_doc) #Converts doc to list of sentences [4]\n",
    "word_tokens = nltk.word_tokenize(raw_doc) #Converts doc to list of words [4]"
   ]
  },
  {
   "cell_type": "markdown",
   "metadata": {},
   "source": [
    "Example of sentance tokens"
   ]
  },
  {
   "cell_type": "code",
   "execution_count": 24,
   "metadata": {},
   "outputs": [
    {
     "data": {
      "text/plain": [
       "['\\nmain menu\\n\\nwikipediathe free encyclopedia\\nsearch wikipedia\\nsearch\\ncreate account\\nlog in\\n\\npersonal tools\\ncontents hide\\n(top)\\nphilosophy of space\\ntoggle philosophy of space subsection\\ngalileo\\nrené descartes\\nleibniz and newton\\nkant\\nnon-euclidean geometry\\ngauss and poincaré\\neinstein\\nmathematics\\nphysics\\ntoggle physics subsection\\nrelativity\\ncosmology\\nspatial measurement\\ngeographical space\\nin psychology\\nin the social sciences\\nsee also\\nreferences\\nexternal links\\nspace\\n\\narticle\\ntalk\\nread\\nview source\\nview history\\n\\ntools\\nappearance hide\\ntext\\n\\nsmall\\n\\nstandard\\n\\nlarge\\nwidth\\n\\nstandard\\n\\nwide\\ncolor (beta)\\n\\nautomatic\\n\\nlight\\n\\ndark\\nreport an issue with dark mode\\npage semi-protected\\nfrom wikipedia, the free encyclopedia\\nthis article is about the general framework of distance and direction.']"
      ]
     },
     "execution_count": 24,
     "metadata": {},
     "output_type": "execute_result"
    }
   ],
   "source": [
    "sent_tokens[:1]"
   ]
  },
  {
   "cell_type": "markdown",
   "metadata": {},
   "source": [
    "Example of word tokens"
   ]
  },
  {
   "cell_type": "code",
   "execution_count": 25,
   "metadata": {},
   "outputs": [
    {
     "data": {
      "text/plain": [
       "['main']"
      ]
     },
     "execution_count": 25,
     "metadata": {},
     "output_type": "execute_result"
    }
   ],
   "source": [
    "word_tokens[:1]"
   ]
  },
  {
   "cell_type": "markdown",
   "metadata": {},
   "source": [
    "Text preprocessing [2]"
   ]
  },
  {
   "cell_type": "code",
   "execution_count": 3,
   "metadata": {},
   "outputs": [],
   "source": [
    "lemmer = nltk.stem.WordNetLemmatizer()\n",
    "#WordNet is a semanticaly-oriented dictionary of English included in NLTK.\n",
    "def LemTokens(tokens):\n",
    "    return [lemmer.lemmatize(token) for token in tokens]\n",
    "remove_punct_dict = dict((ord(punct), None) for punct in string.punctuation)\n",
    "def LemNormalize(text):\n",
    "    return LemTokens(nltk.word_tokenize(text.lower().translate(remove_punct_dict)))"
   ]
  },
  {
   "cell_type": "markdown",
   "metadata": {},
   "source": [
    "Defining the Greeting Function"
   ]
  },
  {
   "cell_type": "code",
   "execution_count": 4,
   "metadata": {},
   "outputs": [],
   "source": [
    "GREET_INPUTS = (\"hello\", \"hi\", \"greetings\", \"sup\", \"whats up\", \"hey\", \"was good\", \"my chigga\")\n",
    "GREET_RESPONSES = [\"hi\", \"hey\", \"ur mom :D\", \"*nods*\", \"was sup my chigga\", \"hi there\", \"AMOGH IS THE ONLY BATMAN\", \"yo i am cool ur not now tell me what you want\"]\n",
    "def greet(sentence):\n",
    "    \n",
    "    \n",
    "    for word in sentence.split():\n",
    "        if word.lower() in GREET_INPUTS:\n",
    "            return random.choice(GREET_RESPONSES)"
   ]
  },
  {
   "cell_type": "markdown",
   "metadata": {},
   "source": [
    "Response Generation\n"
   ]
  },
  {
   "cell_type": "code",
   "execution_count": 5,
   "metadata": {},
   "outputs": [],
   "source": [
    "from sklearn.feature_extraction.text import TfidfVectorizer #[[6] Occurence of words and rarity of occurance]\n",
    "from sklearn.metrics.pairwise import cosine_similarity #[7]"
   ]
  },
  {
   "cell_type": "code",
   "execution_count": 6,
   "metadata": {},
   "outputs": [],
   "source": [
    "def response(user_response):\n",
    "    robo1_response = ''\n",
    "    TfidVec = TfidfVectorizer(tokenizer=LemNormalize, stop_words='english')\n",
    "    tfidf = TfidVec.fit_transform(sent_tokens)\n",
    "    vals = cosine_similarity(tfidf[-1], tfidf)\n",
    "    idx = vals.argsort()[0][-2]\n",
    "    flat = vals.flatten()\n",
    "    flat.sort()\n",
    "    req_tfidf = flat[-2]\n",
    "    if (req_tfidf ==0):\n",
    "        robo1_response = robo1_response+\"Fam I dont get you, the hell u tryna say\"\n",
    "        return robo1_response\n",
    "    else:\n",
    "        robo1_response = robo1_response+sent_tokens[idx]\n",
    "        return robo1_response"
   ]
  },
  {
   "cell_type": "markdown",
   "metadata": {},
   "source": [
    "Defining conversation start/end protocols"
   ]
  },
  {
   "cell_type": "code",
   "execution_count": 7,
   "metadata": {},
   "outputs": [
    {
     "name": "stdout",
     "output_type": "stream",
     "text": [
      "UR MOM: I am ur mom. I will give u a chance to talk, if you want to exit say the phrase *amma what did i do*\n",
      "UR MOM: ur mom :D\n",
      "UR MOM: "
     ]
    },
    {
     "name": "stderr",
     "output_type": "stream",
     "text": [
      "c:\\Users\\Amogh Varote\\anaconda3\\Lib\\site-packages\\sklearn\\feature_extraction\\text.py:525: UserWarning: The parameter 'token_pattern' will not be used since 'tokenizer' is not None'\n",
      "  warnings.warn(\n",
      "c:\\Users\\Amogh Varote\\anaconda3\\Lib\\site-packages\\sklearn\\feature_extraction\\text.py:408: UserWarning: Your stop_words may be inconsistent with your preprocessing. Tokenizing the stop words generated tokens ['ha', 'le', 'u', 'wa'] not in stop_words.\n",
      "  warnings.warn(\n"
     ]
    },
    {
     "name": "stdout",
     "output_type": "stream",
     "text": [
      "Fam I dont get you, the hell u tryna say\n",
      "UR MOM: You are welcome, my child. I love you, take care <3 *blowing kisses*\n"
     ]
    }
   ],
   "source": [
    "flag = True\n",
    "print(\"UR MOM: I am ur mom. I will give u a chance to talk, if you want to exit say the phrase *amma what did i do*\")\n",
    "while(flag==True):\n",
    "    user_response = input()\n",
    "    user_response = user_response.lower()\n",
    "    if(user_response != \"amma what did i do\"):\n",
    "        if(user_response == \"thanks\"):\n",
    "            flag = False\n",
    "            print(\"UR MOM: You are welcome, my child. I love you.\")\n",
    "        else:\n",
    "            if(greet(user_response)!=None):\n",
    "                print(\"UR MOM: \"+greet(user_response))\n",
    "            else:\n",
    "                sent_tokens.append(user_response)\n",
    "                word_tokens = word_tokens+nltk.word_tokenize(user_response) \n",
    "                final_words = list(set(word_tokens))\n",
    "                print(\"UR MOM: \", end = \"\")\n",
    "                print(response(user_response))\n",
    "                sent_tokens.remove(user_response)           \n",
    "    else:\n",
    "        flag = False\n",
    "        print(\"UR MOM: You are welcome, my child. I love you, take care <3 *blowing kisses*\")                          "
   ]
  }
 ],
 "metadata": {
  "kernelspec": {
   "display_name": "Python 3",
   "language": "python",
   "name": "python3"
  },
  "language_info": {
   "codemirror_mode": {
    "name": "ipython",
    "version": 3
   },
   "file_extension": ".py",
   "mimetype": "text/x-python",
   "name": "python",
   "nbconvert_exporter": "python",
   "pygments_lexer": "ipython3",
   "version": "3.11.5"
  }
 },
 "nbformat": 4,
 "nbformat_minor": 2
}
